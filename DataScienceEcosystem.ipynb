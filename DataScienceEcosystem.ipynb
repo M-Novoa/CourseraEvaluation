{
 "cells": [
  {
   "cell_type": "markdown",
   "id": "b37b6403-d4a1-4f10-941d-28ba708a0503",
   "metadata": {},
   "source": []
  },
  {
   "cell_type": "markdown",
   "id": "c74880aa-1ff8-4e86-b2a3-5896a9434c73",
   "metadata": {},
   "source": [
    "1- In this notebook, Data Science Tools and Ecosystem are summarized"
   ]
  },
  {
   "cell_type": "markdown",
   "id": "574b5fd6-2214-41e8-a4a5-4813e1ac91f6",
   "metadata": {},
   "source": [
    "**Objectives:**\n",
    "1. create titles\n",
    "2. list popular languages in data science\n",
    "3. list the most commonly used libraries\n",
    "4. list some data science tools\n",
    "5. Do some arithmetic expressions"
   ]
  },
  {
   "cell_type": "markdown",
   "id": "2c4d9dc6-3dbb-49af-b885-6c3630c51ebf",
   "metadata": {},
   "source": [
    "2-title.png"
   ]
  },
  {
   "cell_type": "markdown",
   "id": "fa944e66-043a-47d4-8fa2-ee70634927f6",
   "metadata": {},
   "source": [
    "Some of the popular languages that Data Scientists use are\n",
    "1. R\n",
    "2. Pyhon\n",
    "3. JavaScript"
   ]
  },
  {
   "cell_type": "markdown",
   "id": "4a9be7a4-f505-4b9a-ac00-5dc91b1744e3",
   "metadata": {},
   "source": [
    "Some of the commonly used libraries used by Data Scientists include:\n",
    "1. GGplot\n",
    "2. Pandas\n",
    "3. NumPy"
   ]
  },
  {
   "cell_type": "markdown",
   "id": "99c4b1fc-f960-4050-aad7-38806d79d5ee",
   "metadata": {},
   "source": [
    "Data Science Tools\n",
    "- Github\n",
    "- XMMA\n",
    "- xnextversion"
   ]
  },
  {
   "cell_type": "markdown",
   "id": "86d83293-e348-4ffe-9f52-5020c29cac0f",
   "metadata": {},
   "source": [
    "H3 - 7-Introaritmetic.png"
   ]
  },
  {
   "cell_type": "markdown",
   "id": "e6b55bb5-1135-45a7-82f8-7c06dcb50424",
   "metadata": {},
   "source": [
    "This is a simple arithmetic expression to multiply then add integers"
   ]
  },
  {
   "cell_type": "code",
   "execution_count": 2,
   "id": "c4ee5b1f-8554-4a84-b0e5-01e308412460",
   "metadata": {},
   "outputs": [
    {
     "data": {
      "text/plain": [
       "17"
      ]
     },
     "execution_count": 2,
     "metadata": {},
     "output_type": "execute_result"
    }
   ],
   "source": [
    "(3*4)+5"
   ]
  },
  {
   "cell_type": "markdown",
   "id": "4054717f-b531-4b30-8073-6f98f01ea37b",
   "metadata": {},
   "source": [
    "_This will convet 200 minutes to hours by diving by 60_"
   ]
  },
  {
   "cell_type": "code",
   "execution_count": 3,
   "id": "b3c82899-b612-49ac-86c3-16feb02d9554",
   "metadata": {},
   "outputs": [
    {
     "data": {
      "text/plain": [
       "3.3333333333333335"
      ]
     },
     "execution_count": 3,
     "metadata": {},
     "output_type": "execute_result"
    }
   ],
   "source": [
    "200/60"
   ]
  },
  {
   "cell_type": "markdown",
   "id": "97dc86fe-2fc5-4759-a6f9-18cd2652b769",
   "metadata": {},
   "source": [
    "Excercise 10"
   ]
  },
  {
   "cell_type": "code",
   "execution_count": null,
   "id": "7ca2b36d-e114-4703-8a1d-1110ea5c4069",
   "metadata": {},
   "outputs": [],
   "source": []
  }
 ],
 "metadata": {
  "kernelspec": {
   "display_name": "Python 3 (ipykernel)",
   "language": "python",
   "name": "python3"
  },
  "language_info": {
   "codemirror_mode": {
    "name": "ipython",
    "version": 3
   },
   "file_extension": ".py",
   "mimetype": "text/x-python",
   "name": "python",
   "nbconvert_exporter": "python",
   "pygments_lexer": "ipython3",
   "version": "3.12.7"
  }
 },
 "nbformat": 4,
 "nbformat_minor": 5
}
